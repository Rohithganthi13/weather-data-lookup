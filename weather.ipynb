{
 "cells": [
  {
   "cell_type": "code",
   "execution_count": null,
   "id": "bb6f7809-f169-4fc5-90e9-eaf9842186bc",
   "metadata": {},
   "outputs": [],
   "source": [
    "\n",
    "weather_data = {\n",
    "    \"Delhi\": {\"Temperature\": 75, \"Conditions\": \"Sunny\"},\n",
    "    \"Hyderabad\": {\"Temperature\": 85, \"Conditions\": \"Partly Cloudy\"},\n",
    "    \"Mumbai\": {\"Temperature\": 60, \"Conditions\": \"Rainy\"},\n",
    "    \"Chennai\": {\"Temperature\": 80, \"Conditions\": \"Cloudy\"},\n",
    "    \"Banglore\": {\"Temperature\": 95, \"Conditions\": \"Sunny\"},\n",
    "}\n",
    "\n",
    "format_weather_report = lambda city: f\"Weather in {city}: {weather_data[city]['Temperature']}°F, {weather_data[city]['Conditions']}\"\n",
    "\n",
    "def get_weather_report(city):\n",
    "    try:\n",
    "        return format_weather_report(city)\n",
    "    except KeyError:\n",
    "        return f\"Sorry, weather data for {city} is not available.\"\n",
    "\n",
    "def main():\n",
    "    city = input(\"Enter city name: \")\n",
    "    print(get_weather_report(city.capitalize()))\n",
    "\n",
    "if __name__ == \"__main__\":\n",
    "    main()\n"
   ]
  },
  {
   "cell_type": "code",
   "execution_count": null,
   "id": "7ad18ed0-c544-47c1-b1de-1b8eff326f0a",
   "metadata": {},
   "outputs": [],
   "source": []
  }
 ],
 "metadata": {
  "kernelspec": {
   "display_name": "Python 3 (ipykernel)",
   "language": "python",
   "name": "python3"
  },
  "language_info": {
   "codemirror_mode": {
    "name": "ipython",
    "version": 3
   },
   "file_extension": ".py",
   "mimetype": "text/x-python",
   "name": "python",
   "nbconvert_exporter": "python",
   "pygments_lexer": "ipython3",
   "version": "3.12.4"
  }
 },
 "nbformat": 4,
 "nbformat_minor": 5
}
